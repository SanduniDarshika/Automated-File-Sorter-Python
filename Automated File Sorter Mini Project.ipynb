{
 "cells": [
  {
   "cell_type": "code",
   "execution_count": 52,
   "id": "28513051-a2fc-45ba-91f4-41f6311148b5",
   "metadata": {},
   "outputs": [],
   "source": [
    "#we want to move each type of files for relavant folder in this path\n",
    "#create & move"
   ]
  },
  {
   "cell_type": "code",
   "execution_count": 78,
   "id": "2cdd4f0a-95f3-4bce-817c-4b394eec7aba",
   "metadata": {},
   "outputs": [],
   "source": [
    "import os,shutil"
   ]
  },
  {
   "cell_type": "code",
   "execution_count": 80,
   "id": "0fd8def6-0346-4b0f-ad1e-7fd9335b317d",
   "metadata": {},
   "outputs": [],
   "source": [
    "path=r'C:/Users/darshi/OneDrive/Documents/python/'"
   ]
  },
  {
   "cell_type": "code",
   "execution_count": 82,
   "id": "f36e9529-99e4-4d60-8cee-c74ef926d68f",
   "metadata": {},
   "outputs": [
    {
     "data": {
      "text/plain": [
       "['AS 474 1.xlsx', 'GPA-1.xlsx', 'rabbite.jpg', 'text doc.txt']"
      ]
     },
     "execution_count": 82,
     "metadata": {},
     "output_type": "execute_result"
    }
   ],
   "source": [
    "file_names=os.listdir(path)\n",
    "file_name"
   ]
  },
  {
   "cell_type": "code",
   "execution_count": 84,
   "id": "445c790c-62d2-433f-9c59-6700513bc051",
   "metadata": {},
   "outputs": [],
   "source": [
    "#check already  excel file folder exist or not in this  path"
   ]
  },
  {
   "cell_type": "code",
   "execution_count": 86,
   "id": "405f4ae7-2bec-4479-9986-ba618c37f91f",
   "metadata": {},
   "outputs": [
    {
     "data": {
      "text/plain": [
       "False"
      ]
     },
     "execution_count": 86,
     "metadata": {},
     "output_type": "execute_result"
    }
   ],
   "source": [
    "os.path.exists(path+'xlsx files')"
   ]
  },
  {
   "cell_type": "code",
   "execution_count": 94,
   "id": "53b27aea-f2a1-4ef8-adce-8f076c54d872",
   "metadata": {},
   "outputs": [],
   "source": [
    "folder_names=['excel files','image files','text files']\n",
    "for loop in range (0,3):\n",
    "    if not os.path.exists(path+folder_names[loop]):\n",
    "     os.makedirs(path+folder_names[loop])\n",
    "for file in file_name:\n",
    " if'.xlsx'in file and not os.path.exists(path+'excel files/'+file):\n",
    "   shutil.move(path+file,path+'excel files/'+file)\n",
    " elif'.jpg'in file and not os.path.exists(path+'image files/'+file):\n",
    "   shutil.move(path+file,path+'image files/'+file)\n",
    " elif'.txt'in file and not os.path.exists(path+'text files/'+file):\n",
    "   shutil.move(path+file,path+'text files/'+file)\n",
    " else:\n",
    "     print('There are files in this path were not moved')\n"
   ]
  },
  {
   "cell_type": "code",
   "execution_count": null,
   "id": "ea8ffa32-e40e-4288-ac75-e58add97e706",
   "metadata": {},
   "outputs": [],
   "source": []
  },
  {
   "cell_type": "code",
   "execution_count": null,
   "id": "e10d24f3-c209-46e7-8857-e575db6a5bba",
   "metadata": {},
   "outputs": [],
   "source": []
  },
  {
   "cell_type": "code",
   "execution_count": null,
   "id": "d17a3efa-6926-4730-8293-a448eb04bea7",
   "metadata": {},
   "outputs": [],
   "source": []
  },
  {
   "cell_type": "code",
   "execution_count": null,
   "id": "27d06a6a-a93d-4380-b60b-869646457b89",
   "metadata": {},
   "outputs": [],
   "source": []
  }
 ],
 "metadata": {
  "kernelspec": {
   "display_name": "Python 3 (ipykernel)",
   "language": "python",
   "name": "python3"
  },
  "language_info": {
   "codemirror_mode": {
    "name": "ipython",
    "version": 3
   },
   "file_extension": ".py",
   "mimetype": "text/x-python",
   "name": "python",
   "nbconvert_exporter": "python",
   "pygments_lexer": "ipython3",
   "version": "3.12.4"
  }
 },
 "nbformat": 4,
 "nbformat_minor": 5
}
